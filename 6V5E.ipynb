{
 "cells": [
  {
   "cell_type": "code",
   "execution_count": 42,
   "metadata": {},
   "outputs": [],
   "source": [
    "import numpy as np\n",
    "import itertools"
   ]
  },
  {
   "cell_type": "code",
   "execution_count": 43,
   "metadata": {},
   "outputs": [],
   "source": [
    "V = 6\n",
    "E = 5\n",
    "colors = \"3\"\n",
    "properedges  = np.load(\"./data/properedges_\"+colors+\"color.npy\")"
   ]
  },
  {
   "cell_type": "code",
   "execution_count": 44,
   "metadata": {},
   "outputs": [],
   "source": [
    "def index(i,j,k):\n",
    "    idx_list = list(itertools.combinations(np.arange(V), 3))\n",
    "    tup = tuple(sorted((i,j,k)))\n",
    "    return idx_list.index(tup)"
   ]
  },
  {
   "cell_type": "code",
   "execution_count": 45,
   "metadata": {},
   "outputs": [
    {
     "name": "stdout",
     "output_type": "stream",
     "text": [
      "20\n"
     ]
    }
   ],
   "source": [
    "idx_list = list(itertools.combinations(np.arange(V), 3))\n",
    "N = len(idx_list)\n",
    "print(N) # maximum number of edges"
   ]
  },
  {
   "cell_type": "code",
   "execution_count": 46,
   "metadata": {},
   "outputs": [],
   "source": [
    "def kbits(n, k):\n",
    "    result = []\n",
    "    for bits in itertools.combinations(range(n), k):\n",
    "        s = ['0'] * n\n",
    "        for bit in bits:\n",
    "            s[bit] = '1'\n",
    "        result.append(''.join(s))\n",
    "    return result"
   ]
  },
  {
   "cell_type": "code",
   "execution_count": 47,
   "metadata": {},
   "outputs": [],
   "source": [
    "all_graphsb = [kbits(N, i) for i in range(E)]\n",
    "all_graphsb = [i for s in all_graphsb for i in s]"
   ]
  },
  {
   "attachments": {},
   "cell_type": "markdown",
   "metadata": {},
   "source": [
    "## Generate all Isoclasses"
   ]
  },
  {
   "cell_type": "code",
   "execution_count": 48,
   "metadata": {},
   "outputs": [],
   "source": [
    "def edge():\n",
    "    for i in range(20):\n",
    "        yield '0'*i + '1' + '0'*(19-i)"
   ]
  },
  {
   "cell_type": "code",
   "execution_count": 49,
   "metadata": {},
   "outputs": [],
   "source": [
    "def twoPath2():\n",
    "    for i,j in itertools.combinations(range(V),2):\n",
    "        for l,m in itertools.combinations(set(range(V))-{i,j},2):\n",
    "            a = index(i,j,l)\n",
    "            b = index(i,j,m)\n",
    "            if a>b: a, b = b, a\n",
    "            yield '0'*a + '1' + '0'*(b-a-1) + '1' + '0'*(19-b)"
   ]
  },
  {
   "cell_type": "code",
   "execution_count": 50,
   "metadata": {},
   "outputs": [],
   "source": [
    "def twoEdges():\n",
    "    for i,j,k in itertools.combinations(range(V),3):\n",
    "        for l,m,n in itertools.combinations(set(range(V))-{i,j,k},3):\n",
    "            a = index(i,j,k)\n",
    "            b = index(l,m,n)\n",
    "            if a>b: a, b = b, a\n",
    "            yield '0'*a + '1' + '0'*(b-a-1) + '1' + '0'*(19-b)\n",
    "    for i in range(V):\n",
    "        for j,k,m,n in itertools.combinations(set(range(V))-{i},4):\n",
    "            for j,k,m,n in [(j,k,m,n),(j,m,k,n),(j,n,k,m)]:\n",
    "                a = index(i,j,k)\n",
    "                b = index(i,m,n)\n",
    "                if a>b: a, b = b, a\n",
    "                yield '0'*a + '1' + '0'*(b-a-1) + '1' + '0'*(19-b)"
   ]
  },
  {
   "cell_type": "code",
   "execution_count": 51,
   "metadata": {},
   "outputs": [],
   "source": [
    "def threeS122():\n",
    "    for i in range(V):\n",
    "        for j,k in itertools.combinations(set(range(V))-{i},2):\n",
    "            for m in set(range(V))-{i,j,k}:\n",
    "                for n in set(range(V))-{i,j,k,m}:\n",
    "                    a = index(i,j,k)\n",
    "                    b = index(i,j,m)\n",
    "                    c = index(i,k,n)\n",
    "                    a,b,c = sorted([a,b,c])\n",
    "                    yield '0'*a + '1' + '0'*(b-a-1) + '1' + '0'*(c-b-1) + '1' + '0'*(19-c)\n"
   ]
  },
  {
   "cell_type": "code",
   "execution_count": 52,
   "metadata": {},
   "outputs": [],
   "source": [
    "def fourS1222():\n",
    "    for i in range(V):\n",
    "        for j,k in itertools.combinations(set(range(V))-{i},2):\n",
    "            for m in set(range(V))-{i,j,k}:\n",
    "                for n in set(range(V))-{i,j,k,m}:\n",
    "                    a = index(i,j,k)\n",
    "                    b = index(i,j,m)\n",
    "                    c = index(i,k,n)\n",
    "                    d = index(i,m,n)\n",
    "                    a,b,c,d = sorted([a,b,c,d])\n",
    "                    yield '0'*a + '1' + '0'*(b-a-1) + '1' + '0'*(c-b-1) + '1' + '0'*(d-c-1) + '1' + '0'*(19-d)"
   ]
  },
  {
   "cell_type": "code",
   "execution_count": 53,
   "metadata": {},
   "outputs": [],
   "source": [
    "def threeCycle2():\n",
    "    for i in range(V):\n",
    "        for j,k,m in itertools.combinations(set(range(V))-{i},3):\n",
    "            a = index(i,j,k)\n",
    "            b = index(i,j,m)\n",
    "            c = index(i,k,m)\n",
    "            a,b,c = sorted([a,b,c])\n",
    "            yield '0'*a + '1' + '0'*(b-a-1) + '1' + '0'*(c-b-1) + '1' + '0'*(19-c)"
   ]
  },
  {
   "cell_type": "code",
   "execution_count": 54,
   "metadata": {},
   "outputs": [],
   "source": [
    "def fourCycle1212():\n",
    "    for i,j in itertools.combinations(range(V),2):\n",
    "        for k,l in itertools.combinations(set(range(V))-{i,j},2):\n",
    "            for m in set(range(V))-{i,j,k,l}:\n",
    "                for n in set(range(V))-{i,j,k,l,m}:\n",
    "                    a = index(i,j,n)\n",
    "                    b = index(i,j,m)\n",
    "                    c = index(k,l,n)\n",
    "                    d = index(k,l,m)\n",
    "                    a,b,c,d = sorted([a,b,c,d])\n",
    "                    yield '0'*a + '1' + '0'*(b-a-1) + '1' + '0'*(c-b-1) + '1' + '0'*(d-c-1) + '1' + '0'*(19-d)"
   ]
  },
  {
   "cell_type": "code",
   "execution_count": 55,
   "metadata": {},
   "outputs": [],
   "source": [
    "def threeCycle1inscribed():\n",
    "    for i,j,k in itertools.combinations(range(V),3):\n",
    "        for m in set(range(V))-{i,j,k}:\n",
    "            for n in set(range(V))-{i,j,k,m}:\n",
    "                for o in set(range(V))-{i,j,k,m,n}:\n",
    "                    a = index(i,j,m)\n",
    "                    b = index(j,k,n)\n",
    "                    c = index(k,i,o)\n",
    "                    d = index(m,n,o)\n",
    "                    a,b,c,d = sorted([a,b,c,d])\n",
    "                    yield '0'*a + '1' + '0'*(b-a-1) + '1' + '0'*(c-b-1) + '1' + '0'*(d-c-1) + '1' + '0'*(19-d)"
   ]
  },
  {
   "cell_type": "code",
   "execution_count": 62,
   "metadata": {},
   "outputs": [],
   "source": [
    "ISOCLASSES = [\"0\"*20,\n",
    "              list(edge()),\n",
    "              list(twoPath2()),\n",
    "              list(twoEdges()),\n",
    "              list(threeCycle2()),\n",
    "              list(threeS122()),\n",
    "              list(fourS1222()),\n",
    "              list(fourCycle1212()),\n",
    "              list(threeCycle1inscribed())\n",
    "              ]"
   ]
  },
  {
   "attachments": {},
   "cell_type": "markdown",
   "metadata": {},
   "source": [
    "## Generate the coefficient matrix"
   ]
  },
  {
   "cell_type": "code",
   "execution_count": 63,
   "metadata": {},
   "outputs": [],
   "source": [
    "all_subgraphs = np.array([['{0:020b}'.format(int(edges,2) & int(mono,2)) for mono in properedges] for edges in all_graphsb])"
   ]
  },
  {
   "cell_type": "code",
   "execution_count": 64,
   "metadata": {},
   "outputs": [],
   "source": [
    "mat = np.zeros((all_subgraphs.shape[0], len(ISOCLASSES)))\n",
    "\n",
    "for i in range(len(all_subgraphs)):\n",
    "    for j in range(len(ISOCLASSES)): # contains the edge list of all possible graphs in the isoclass\n",
    "        if ISOCLASSES[j] is None:\n",
    "            mat[i][j]=0\n",
    "        else:\n",
    "            mat[i][j] = np.count_nonzero([subgraph in ISOCLASSES[j] for subgraph in all_subgraphs[i]])"
   ]
  },
  {
   "attachments": {},
   "cell_type": "markdown",
   "metadata": {},
   "source": [
    "## Compute Mu"
   ]
  },
  {
   "cell_type": "code",
   "execution_count": 65,
   "metadata": {},
   "outputs": [],
   "source": [
    "import cvxpy as cp\n",
    "import numpy as np"
   ]
  },
  {
   "cell_type": "code",
   "execution_count": 66,
   "metadata": {},
   "outputs": [
    {
     "name": "stdout",
     "output_type": "stream",
     "text": [
      "1.4941105326662704e-15\n",
      "[ 1.49411053e-15  1.50000000e+01 -1.02000000e+01  6.00000000e-01\n",
      "  3.82186204e+00 -6.60000000e+00  5.16120948e-01 -1.15735799e+01\n",
      " -9.97498141e+00 -1.18544732e+01]\n"
     ]
    }
   ],
   "source": [
    "# maximize delta (away from 0)\n",
    "x = cp.Variable(len(ISOCLASSES)+1)\n",
    "prob = cp.Problem(cp.Maximize(x[0]),\n",
    "                 [ cp.abs((mat[1:,:]/243) @ x[1:]) <= np.ones(mat.shape[0]-1)*(1-x[0]),\n",
    "                 x[[1,2,3,5]] == np.array([15,-10.2,0.6,-6.6]),\n",
    "                 x[0]>=0,\n",
    "                 ])\n",
    "result = prob.solve()\n",
    "print(result)\n",
    "print(x.value)"
   ]
  },
  {
   "cell_type": "code",
   "execution_count": 67,
   "metadata": {},
   "outputs": [
    {
     "name": "stdout",
     "output_type": "stream",
     "text": [
      "42.95382377616706\n",
      "[ 1.50000000e+01 -1.02000000e+01  6.00000000e-01  3.48000000e+00\n",
      " -6.60000000e+00 -6.21741819e-13 -4.55076923e+00 -1.86545455e+00\n",
      " -6.57600000e-01]\n"
     ]
    }
   ],
   "source": [
    "# minimize sum of absolute of c_H\n",
    "x = cp.Variable(len(ISOCLASSES))\n",
    "prob = cp.Problem(cp.Minimize(cp.sum(cp.abs(x))),\n",
    "                 [ cp.abs((mat[1:,:]/243) @ x) <= np.ones(mat.shape[0]-1),\n",
    "                 x[0] == 15\n",
    "                #  x[[0,1,2,4]] == np.array([15,-10.2,0.6,-6.6])\n",
    "                 ])\n",
    "result = prob.solve()\n",
    "print(result)\n",
    "print(x.value)"
   ]
  },
  {
   "attachments": {},
   "cell_type": "markdown",
   "metadata": {},
   "source": [
    "## Test Coefficients"
   ]
  },
  {
   "cell_type": "code",
   "execution_count": 68,
   "metadata": {},
   "outputs": [],
   "source": [
    "coeff = [15,-10.2,0.6,3.48,-6.6,0,-10,-10,-10]"
   ]
  },
  {
   "cell_type": "code",
   "execution_count": 69,
   "metadata": {},
   "outputs": [
    {
     "name": "stdout",
     "output_type": "stream",
     "text": [
      "False\n"
     ]
    },
    {
     "data": {
      "text/plain": [
       "array([15.        ,  1.        ,  1.        , ...,  0.00888889,\n",
       "        0.00888889,  1.        ])"
      ]
     },
     "execution_count": 69,
     "metadata": {},
     "output_type": "execute_result"
    }
   ],
   "source": [
    "np.set_printoptions(suppress=True)\n",
    "mu = np.abs(mat/243 @ np.array(coeff).reshape(-1,1)).flatten()\n",
    "print((mu[1:]<=1).all())\n",
    "mu"
   ]
  },
  {
   "cell_type": "code",
   "execution_count": 70,
   "metadata": {},
   "outputs": [
    {
     "data": {
      "text/plain": [
       "(array([0]),)"
      ]
     },
     "execution_count": 70,
     "metadata": {},
     "output_type": "execute_result"
    }
   ],
   "source": [
    "# print graphs that have mu > 1\n",
    "(mu>1+1e-9).nonzero()"
   ]
  },
  {
   "cell_type": "code",
   "execution_count": 71,
   "metadata": {},
   "outputs": [
    {
     "name": "stdout",
     "output_type": "stream",
     "text": [
      "(0, 1, 2)\n",
      "(0, 3, 4)\n",
      "(1, 3, 5)\n",
      "(2, 4, 5)\n"
     ]
    }
   ],
   "source": [
    "for i,a in enumerate(all_graphsb[2088]):\n",
    "    if a == '1':\n",
    "        print(idx_list[i])"
   ]
  },
  {
   "cell_type": "code",
   "execution_count": 72,
   "metadata": {},
   "outputs": [
    {
     "data": {
      "text/plain": [
       "[(0, 1, 2),\n",
       " (0, 1, 3),\n",
       " (0, 1, 4),\n",
       " (0, 1, 5),\n",
       " (0, 2, 3),\n",
       " (0, 2, 4),\n",
       " (0, 2, 5),\n",
       " (0, 3, 4),\n",
       " (0, 3, 5),\n",
       " (0, 4, 5),\n",
       " (1, 2, 3),\n",
       " (1, 2, 4),\n",
       " (1, 2, 5),\n",
       " (1, 3, 4),\n",
       " (1, 3, 5),\n",
       " (1, 4, 5),\n",
       " (2, 3, 4),\n",
       " (2, 3, 5),\n",
       " (2, 4, 5),\n",
       " (3, 4, 5)]"
      ]
     },
     "execution_count": 72,
     "metadata": {},
     "output_type": "execute_result"
    }
   ],
   "source": [
    "idx_list"
   ]
  },
  {
   "cell_type": "code",
   "execution_count": null,
   "metadata": {},
   "outputs": [],
   "source": []
  }
 ],
 "metadata": {
  "kernelspec": {
   "display_name": "base",
   "language": "python",
   "name": "python3"
  },
  "language_info": {
   "codemirror_mode": {
    "name": "ipython",
    "version": 3
   },
   "file_extension": ".py",
   "mimetype": "text/x-python",
   "name": "python",
   "nbconvert_exporter": "python",
   "pygments_lexer": "ipython3",
   "version": "3.8.8"
  },
  "orig_nbformat": 4,
  "vscode": {
   "interpreter": {
    "hash": "3a6df60bedf1c0dd760e71efb82970e84ef35f476934fd5ef0683dc3fe4c3487"
   }
  }
 },
 "nbformat": 4,
 "nbformat_minor": 2
}
