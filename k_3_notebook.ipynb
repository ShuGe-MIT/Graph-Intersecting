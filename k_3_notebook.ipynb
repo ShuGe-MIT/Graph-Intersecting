{
 "cells": [
  {
   "cell_type": "code",
   "execution_count": 1,
   "id": "a11d007d",
   "metadata": {},
   "outputs": [],
   "source": [
    "import numpy as np\n",
    "import networkx as nx\n",
    "from scipy.optimize import linprog\n",
    "from math import comb"
   ]
  },
  {
   "cell_type": "code",
   "execution_count": 2,
   "id": "b0706bdf",
   "metadata": {},
   "outputs": [],
   "source": [
    "q = 2\n",
    "V = 9 # TODO: try V = 8 ??\n",
    "delta = 0.0125 # TODO: how far we can push delta to ??"
   ]
  },
  {
   "cell_type": "code",
   "execution_count": 3,
   "id": "95a95286",
   "metadata": {},
   "outputs": [],
   "source": [
    "ALL9GRAPHS = sorted(nx.read_graph6(\"graph9.g6\"), key = lambda G: G.number_of_edges()) # 274668 graphs on at most 9 vertices\n",
    "ALLCC = np.array([len(list(nx.connected_components(G)))-1 for G in ALL9GRAPHS]) # get number of connected components of all graphs on at most 9 vertices\n",
    "# isolated vertices as components"
   ]
  },
  {
   "cell_type": "code",
   "execution_count": 4,
   "id": "65104879",
   "metadata": {},
   "outputs": [],
   "source": [
    "ALLH = ALL9GRAPHS[:19]"
   ]
  },
  {
   "cell_type": "code",
   "execution_count": 5,
   "id": "086b5775",
   "metadata": {},
   "outputs": [],
   "source": [
    "def all_colorings(V, q=2):\n",
    "    \"\"\"\n",
    "    return all q-colorings of graphs on V vertices\n",
    "    \"\"\"\n",
    "    for i in range(2**V):\n",
    "        b = bin(i)[2:]\n",
    "        yield str(0) * (V - len(b)) + b\n",
    "\n",
    "def prume(G, C):\n",
    "    \"\"\"\n",
    "    return pruned graph with all monochromatic edges removed and then isolated vertices removed\n",
    "    \"\"\"\n",
    "    # remove monochromatic edge\n",
    "    g = G.copy()\n",
    "    for e in g.edges():\n",
    "        if C[e[0]]==C[e[1]]: \n",
    "            g.remove_edge(e[0],e[1])\n",
    "    \n",
    "    # remove isolated vertex\n",
    "    g.remove_nodes_from(list(nx.isolates(g)))\n",
    "    return g\n",
    "\n",
    "def count_iso_colorings(G, V, B):\n",
    "    \"\"\"\n",
    "    count the number of colorings of graph G on V vertices such that the resulting subgraph\n",
    "    after coloring is isomorphic to B\n",
    "    \"\"\"\n",
    "    return np.count_nonzero(np.array([nx.is_isomorphic(B, prume(G, C)) for C in all_colorings(V, q)]))\n",
    "\n",
    "def nodes(G):\n",
    "    \"\"\"\n",
    "    return the number of nodes of graph G\n",
    "    \"\"\"\n",
    "    counter=0\n",
    "    for v in G.nodes():\n",
    "        if G.degree(v) > 0: counter+=1\n",
    "    return counter\n",
    "\n",
    "def DC(x, q = 2, V = 9):\n",
    "    \"\"\"\n",
    "    return the value of DC given x, q and V\n",
    "    \"\"\"\n",
    "#     print(\"query\",x)\n",
    "#     for n in range(V+1,max(2*x+1,V+2)):\n",
    "#         print(\"n,V,x = \", n,V,x)\n",
    "    return max([comb(n,V)/(q**(n-V)*comb(n-x,V-x)) for n in range(V+1,max(2*x+1,V+2))]) \n",
    "\n",
    "def coef_tilde(coefs):\n",
    "    \"\"\"\n",
    "    the list of H's that can be reduced to each H by iteratively identifying vertices from disconnected components\n",
    "    \"\"\"\n",
    "    avail = [[0],\n",
    "    [1],\n",
    "    [2,3],\n",
    "    [3],\n",
    "    [4,5,8],\n",
    "    [5,8],\n",
    "    [6],\n",
    "    [7,5,8],\n",
    "    [8],\n",
    "    [9,10,13,15],\n",
    "    [10,15],\n",
    "    [11],\n",
    "    [12,15,17],\n",
    "    [13,15],\n",
    "    [14,16],\n",
    "    [15],\n",
    "    [16],\n",
    "    [17,15],\n",
    "    [18,13,15,17]]\n",
    "    return [max([abs(coefs[i]) for i in avail[j]]) for j in range(len(coefs))]"
   ]
  },
  {
   "cell_type": "code",
   "execution_count": 6,
   "id": "b15e06c5",
   "metadata": {},
   "outputs": [],
   "source": [
    "# # generate a matrix such that rows are all graphs on at most V vertices\n",
    "# # columns are sum of number of colorings of all subgraphs of G isomorphic to H\n",
    "# # such that we get get P[G_q\\cong H] = ISO_COUNT[G_idx][H_idx]\n",
    "# ISO_COUNT = np.array([[count_iso_colorings(ALL9GRAPHS[i], V, nx.Graph(ALLH[j].edges())) for j in range(len(ALLH))] for i in range(len(ALL9GRAPHS))])/q**V\n",
    "# print(ISO_COUNT.sum(axis = 1))\n",
    "ISO_COUNT = np.load('k3_subg_counts_9v2.npy')[:,:19]/2**9"
   ]
  },
  {
   "cell_type": "code",
   "execution_count": 7,
   "id": "fd46f570",
   "metadata": {},
   "outputs": [],
   "source": [
    "# DCs = np.array([DC(nodes(g)) for g in ALLH])\n",
    "# DCs"
   ]
  },
  {
   "cell_type": "code",
   "execution_count": 8,
   "id": "d9ff9a5b",
   "metadata": {},
   "outputs": [
    {
     "data": {
      "text/plain": [
       "array([0.5       , 0.625     , 0.71428571, 0.83333333, 0.83333333,\n",
       "       1.        , 0.71428571, 0.83333333, 0.29761905, 1.        ,\n",
       "       0.29761905, 0.83333333, 1.        , 0.29761905, 0.83333333,\n",
       "       0.5       , 0.5       , 0.5       , 1.        ])"
      ]
     },
     "execution_count": 8,
     "metadata": {},
     "output_type": "execute_result"
    }
   ],
   "source": [
    "# DCs = np.array([DC(nodes(g), V = V) for g in ALLH]) # TODO: why truncating DC??\n",
    "DCs = np.array([0.5, 0.625, 0.7142857142857143, 0.8333333333333334, 0.8333333333333334, 1.0, 0.7142857142857143, 0.8333333333333334, 0.2976190476190476, 1.0, 0.2976190476190476, 0.8333333333333334, 1.0, 0.2976190476190476, 0.8333333333333334, 0.5, 0.5, 0.5, 1.0])\n",
    "DCs"
   ]
  },
  {
   "cell_type": "code",
   "execution_count": 9,
   "id": "69116acf",
   "metadata": {},
   "outputs": [],
   "source": [
    "def check_condition_2(coefs):\n",
    "    \"\"\"\n",
    "    check that all graphs with at most 3 edges have mu less than or equal to 1\n",
    "    \"\"\"\n",
    "    sums = np.apply_along_axis(lambda x: np.sum(x*coefs), 1, ISO_COUNT[:9])\n",
    "    return (np.max(np.abs(sums)[1:]) <=1) and sums[0] == 7\n",
    "def check_condition_3(coefs):\n",
    "    \"\"\"\n",
    "    check that all graphs with more than tC2 edges and at most V vertices have mu at most 1-delta\n",
    "    check that the maximum bound is at most 1-delta by iterating over all graphs on at most V certices\n",
    "    \"\"\"\n",
    "    small_sums = np.apply_along_axis(lambda x: np.sum(x*coefs), 1, ISO_COUNT[9:]) # graphs > tC2 edges and <= V vertices\n",
    "    large_sums = np.apply_along_axis(lambda x: np.sum(x*coef_tilde(coefs)*DCs), 1, ISO_COUNT[1:]) # check graphs > tC2 edges and > V vertices\n",
    "    print(\"bound on small\",np.max(np.abs(small_sums)),\"bound on big\",np.max(large_sums/q**(ALLCC_old[1:])),\"threshold\", 1-delta)\n",
    "    return (np.max(large_sums/q**(ALLCC_old[1:])) <= 1 - delta) and (np.max(np.abs(small_sums)) <= 1 - delta)"
   ]
  },
  {
   "cell_type": "code",
   "execution_count": 10,
   "id": "eee84b53",
   "metadata": {},
   "outputs": [
    {
     "ename": "NameError",
     "evalue": "name 'ALLCC_old' is not defined",
     "output_type": "error",
     "traceback": [
      "\u001b[0;31m---------------------------------------------------------------------------\u001b[0m",
      "\u001b[0;31mNameError\u001b[0m                                 Traceback (most recent call last)",
      "\u001b[0;32m<ipython-input-10-15a672727568>\u001b[0m in \u001b[0;36m<module>\u001b[0;34m\u001b[0m\n\u001b[1;32m      2\u001b[0m \u001b[0;31m# print(coef_tilde(coefs))\u001b[0m\u001b[0;34m\u001b[0m\u001b[0;34m\u001b[0m\u001b[0;34m\u001b[0m\u001b[0m\n\u001b[1;32m      3\u001b[0m \u001b[0mres\u001b[0m\u001b[0;34m=\u001b[0m\u001b[0mcheck_condition_2\u001b[0m\u001b[0;34m(\u001b[0m\u001b[0mcoefs\u001b[0m\u001b[0;34m)\u001b[0m\u001b[0;34m\u001b[0m\u001b[0;34m\u001b[0m\u001b[0m\n\u001b[0;32m----> 4\u001b[0;31m \u001b[0mres2\u001b[0m \u001b[0;34m=\u001b[0m \u001b[0mcheck_condition_3\u001b[0m\u001b[0;34m(\u001b[0m\u001b[0mcoefs\u001b[0m\u001b[0;34m)\u001b[0m\u001b[0;34m\u001b[0m\u001b[0;34m\u001b[0m\u001b[0m\n\u001b[0m\u001b[1;32m      5\u001b[0m \u001b[0mprint\u001b[0m\u001b[0;34m(\u001b[0m\u001b[0mres\u001b[0m\u001b[0;34m,\u001b[0m \u001b[0mres2\u001b[0m\u001b[0;34m)\u001b[0m\u001b[0;34m\u001b[0m\u001b[0;34m\u001b[0m\u001b[0m\n",
      "\u001b[0;32m<ipython-input-9-a85a7c129d5d>\u001b[0m in \u001b[0;36mcheck_condition_3\u001b[0;34m(coefs)\u001b[0m\n\u001b[1;32m     12\u001b[0m     \u001b[0msmall_sums\u001b[0m \u001b[0;34m=\u001b[0m \u001b[0mnp\u001b[0m\u001b[0;34m.\u001b[0m\u001b[0mapply_along_axis\u001b[0m\u001b[0;34m(\u001b[0m\u001b[0;32mlambda\u001b[0m \u001b[0mx\u001b[0m\u001b[0;34m:\u001b[0m \u001b[0mnp\u001b[0m\u001b[0;34m.\u001b[0m\u001b[0msum\u001b[0m\u001b[0;34m(\u001b[0m\u001b[0mx\u001b[0m\u001b[0;34m*\u001b[0m\u001b[0mcoefs\u001b[0m\u001b[0;34m)\u001b[0m\u001b[0;34m,\u001b[0m \u001b[0;36m1\u001b[0m\u001b[0;34m,\u001b[0m \u001b[0mISO_COUNT\u001b[0m\u001b[0;34m[\u001b[0m\u001b[0;36m9\u001b[0m\u001b[0;34m:\u001b[0m\u001b[0;34m]\u001b[0m\u001b[0;34m)\u001b[0m \u001b[0;31m# graphs > tC2 edges and <= V vertices\u001b[0m\u001b[0;34m\u001b[0m\u001b[0;34m\u001b[0m\u001b[0m\n\u001b[1;32m     13\u001b[0m     \u001b[0mlarge_sums\u001b[0m \u001b[0;34m=\u001b[0m \u001b[0mnp\u001b[0m\u001b[0;34m.\u001b[0m\u001b[0mapply_along_axis\u001b[0m\u001b[0;34m(\u001b[0m\u001b[0;32mlambda\u001b[0m \u001b[0mx\u001b[0m\u001b[0;34m:\u001b[0m \u001b[0mnp\u001b[0m\u001b[0;34m.\u001b[0m\u001b[0msum\u001b[0m\u001b[0;34m(\u001b[0m\u001b[0mx\u001b[0m\u001b[0;34m*\u001b[0m\u001b[0mcoef_tilde\u001b[0m\u001b[0;34m(\u001b[0m\u001b[0mcoefs\u001b[0m\u001b[0;34m)\u001b[0m\u001b[0;34m*\u001b[0m\u001b[0mDCs\u001b[0m\u001b[0;34m)\u001b[0m\u001b[0;34m,\u001b[0m \u001b[0;36m1\u001b[0m\u001b[0;34m,\u001b[0m \u001b[0mISO_COUNT\u001b[0m\u001b[0;34m[\u001b[0m\u001b[0;36m1\u001b[0m\u001b[0;34m:\u001b[0m\u001b[0;34m]\u001b[0m\u001b[0;34m)\u001b[0m \u001b[0;31m# check graphs > tC2 edges and > V vertices\u001b[0m\u001b[0;34m\u001b[0m\u001b[0;34m\u001b[0m\u001b[0m\n\u001b[0;32m---> 14\u001b[0;31m     \u001b[0mprint\u001b[0m\u001b[0;34m(\u001b[0m\u001b[0;34m\"bound on small\"\u001b[0m\u001b[0;34m,\u001b[0m\u001b[0mnp\u001b[0m\u001b[0;34m.\u001b[0m\u001b[0mmax\u001b[0m\u001b[0;34m(\u001b[0m\u001b[0mnp\u001b[0m\u001b[0;34m.\u001b[0m\u001b[0mabs\u001b[0m\u001b[0;34m(\u001b[0m\u001b[0msmall_sums\u001b[0m\u001b[0;34m)\u001b[0m\u001b[0;34m)\u001b[0m\u001b[0;34m,\u001b[0m\u001b[0;34m\"bound on big\"\u001b[0m\u001b[0;34m,\u001b[0m\u001b[0mnp\u001b[0m\u001b[0;34m.\u001b[0m\u001b[0mmax\u001b[0m\u001b[0;34m(\u001b[0m\u001b[0mlarge_sums\u001b[0m\u001b[0;34m/\u001b[0m\u001b[0mq\u001b[0m\u001b[0;34m**\u001b[0m\u001b[0;34m(\u001b[0m\u001b[0mALLCC_old\u001b[0m\u001b[0;34m[\u001b[0m\u001b[0;36m1\u001b[0m\u001b[0;34m:\u001b[0m\u001b[0;34m]\u001b[0m\u001b[0;34m)\u001b[0m\u001b[0;34m)\u001b[0m\u001b[0;34m,\u001b[0m\u001b[0;34m\"threshold\"\u001b[0m\u001b[0;34m,\u001b[0m \u001b[0;36m1\u001b[0m\u001b[0;34m-\u001b[0m\u001b[0mdelta\u001b[0m\u001b[0;34m)\u001b[0m\u001b[0;34m\u001b[0m\u001b[0;34m\u001b[0m\u001b[0m\n\u001b[0m\u001b[1;32m     15\u001b[0m     \u001b[0;32mreturn\u001b[0m \u001b[0;34m(\u001b[0m\u001b[0mnp\u001b[0m\u001b[0;34m.\u001b[0m\u001b[0mmax\u001b[0m\u001b[0;34m(\u001b[0m\u001b[0mlarge_sums\u001b[0m\u001b[0;34m/\u001b[0m\u001b[0mq\u001b[0m\u001b[0;34m**\u001b[0m\u001b[0;34m(\u001b[0m\u001b[0mALLCC_old\u001b[0m\u001b[0;34m[\u001b[0m\u001b[0;36m1\u001b[0m\u001b[0;34m:\u001b[0m\u001b[0;34m]\u001b[0m\u001b[0;34m)\u001b[0m\u001b[0;34m)\u001b[0m \u001b[0;34m<=\u001b[0m \u001b[0;36m1\u001b[0m \u001b[0;34m-\u001b[0m \u001b[0mdelta\u001b[0m\u001b[0;34m)\u001b[0m \u001b[0;32mand\u001b[0m \u001b[0;34m(\u001b[0m\u001b[0mnp\u001b[0m\u001b[0;34m.\u001b[0m\u001b[0mmax\u001b[0m\u001b[0;34m(\u001b[0m\u001b[0mnp\u001b[0m\u001b[0;34m.\u001b[0m\u001b[0mabs\u001b[0m\u001b[0;34m(\u001b[0m\u001b[0msmall_sums\u001b[0m\u001b[0;34m)\u001b[0m\u001b[0;34m)\u001b[0m \u001b[0;34m<=\u001b[0m \u001b[0;36m1\u001b[0m \u001b[0;34m-\u001b[0m \u001b[0mdelta\u001b[0m\u001b[0;34m)\u001b[0m\u001b[0;34m\u001b[0m\u001b[0;34m\u001b[0m\u001b[0m\n",
      "\u001b[0;31mNameError\u001b[0m: name 'ALLCC_old' is not defined"
     ]
    }
   ],
   "source": [
    "coefs = np.array([7.0, -5.0, -1.0, 1.7, 3.0, 0.0, 0.0, 0.3, 0.0, -0.2, 0.0, 0.0, 0.0, 0.0, -3.7, 0.0, 0.0, 0.0, -0.75])\n",
    "# print(coef_tilde(coefs))\n",
    "res=check_condition_2(coefs)\n",
    "res2 = check_condition_3(coefs)\n",
    "print(res, res2)"
   ]
  },
  {
   "cell_type": "code",
   "execution_count": null,
   "id": "e2cd84a9",
   "metadata": {},
   "outputs": [],
   "source": [
    "all_avail_coeff = []\n",
    "# all disconnected H have 0 coefficients\n",
    "for x3 in np.arange(-1.0,2.0,0.4):\n",
    "    for x4 in np.arange(-2,5,1):\n",
    "        for x7 in np.arange(-1.0,1.0,0.2):\n",
    "            for x9 in np.arange(-1.0,1.0,0.4):\n",
    "                for x12 in np.arange(-1,2,1):\n",
    "                    for x14 in np.arange(-4.0,2.0,0.5):\n",
    "                        for x18 in np.arange(-1.0,1.0,0.5):\n",
    "                            coefs = np.array([7.0,-5,-1,x3,x4,0.0,0.0,x7,0.0,x9,0.0,0.0,x12,0.0,x14,0.0,0.0,0.0,x18])\n",
    "                            res=check_condition_2(coefs)\n",
    "                            res2 = check_condition_3(coefs)\n",
    "                            if res and res2:\n",
    "                                all_avail_coeff.append(coefs)\n",
    "with open('coeff_res.npy', 'wb') as f:\n",
    "    np.save(f,np.array(all_avail_coeff))"
   ]
  }
 ],
 "metadata": {
  "kernelspec": {
   "display_name": "Python 3",
   "language": "python",
   "name": "python3"
  },
  "language_info": {
   "codemirror_mode": {
    "name": "ipython",
    "version": 3
   },
   "file_extension": ".py",
   "mimetype": "text/x-python",
   "name": "python",
   "nbconvert_exporter": "python",
   "pygments_lexer": "ipython3",
   "version": "3.8.8"
  }
 },
 "nbformat": 4,
 "nbformat_minor": 5
}
