{
 "cells": [
  {
   "cell_type": "code",
   "execution_count": 1,
   "id": "5d172674",
   "metadata": {},
   "outputs": [],
   "source": [
    "import numpy as np\n",
    "import networkx as nx\n",
    "from scipy.optimize import linprog\n",
    "from math import comb"
   ]
  },
  {
   "cell_type": "code",
   "execution_count": 2,
   "id": "ef555965",
   "metadata": {},
   "outputs": [],
   "source": [
    "q = 2\n",
    "V = 9 # TODO: try V = 8 ??\n",
    "delta = 0.125 # TODO: how far we can push delta to ??"
   ]
  },
  {
   "cell_type": "code",
   "execution_count": 3,
   "id": "1bfa866f",
   "metadata": {},
   "outputs": [],
   "source": [
    "ALL9GRAPHS = sorted(nx.read_graph6(\"graph9.g6\"), key = lambda G: G.number_of_edges()) # 274668 graphs on at most 9 vertices\n",
    "ALLCC = np.array([np.count_nonzero([len(c)>1 for c in list(nx.connected_components(g))]) for g in ALL9GRAPHS]) # get number of connected components of all graphs on at most 9 vertices"
   ]
  },
  {
   "cell_type": "code",
   "execution_count": 4,
   "id": "740afdc5",
   "metadata": {},
   "outputs": [],
   "source": [
    "ALL9BIPARTITE = ALL9GRAPHS[:19]"
   ]
  },
  {
   "cell_type": "code",
   "execution_count": 5,
   "id": "5a71ba7b",
   "metadata": {},
   "outputs": [],
   "source": [
    "def all_colorings(V, q=2):\n",
    "    \"\"\"\n",
    "    return all q-colorings of graphs on V vertices\n",
    "    \"\"\"\n",
    "    for i in range(2**V):\n",
    "        b = bin(i)[2:]\n",
    "        yield str(0) * (V - len(b)) + b\n",
    "\n",
    "def prume(G, C):\n",
    "    \"\"\"\n",
    "    return pruned graph with all monochromatic edges removed and then isolated vertices removed\n",
    "    \"\"\"\n",
    "    # remove monochromatic edge\n",
    "    g = G.copy()\n",
    "    for e in g.edges():\n",
    "        if C[e[0]]==C[e[1]]: \n",
    "            g.remove_edge(e[0],e[1])\n",
    "    \n",
    "    # remove isolated vertex\n",
    "    g.remove_nodes_from(list(nx.isolates(g)))\n",
    "    return g\n",
    "\n",
    "def count_iso_colorings(G, V, B):\n",
    "    \"\"\"\n",
    "    count the number of colorings of graph G on V vertices such that the resulting subgraph\n",
    "    after coloring is isomorphic to B\n",
    "    \"\"\"\n",
    "    return np.count_nonzero(np.array([nx.is_isomorphic(B, prume(G, C)) for C in all_colorings(V, q)]))\n",
    "\n",
    "def check_condition_2(coefs):\n",
    "    \"\"\"\n",
    "    check that all graphs with at most 3 edges have mu less than or equal to 1\n",
    "    \"\"\"\n",
    "    sums = np.apply_along_axis(lambda x: np.sum(x*coefs), 1, ISO_COUNT[:9])\n",
    "    print(np.max(np.abs(sums)[1:]))\n",
    "    return all(np.abs(sums)[1:] <=1) and sums[0] == 7\n",
    "\n",
    "def nodes(G):\n",
    "    \"\"\"\n",
    "    return the number of nodes of graph G\n",
    "    \"\"\"\n",
    "    counter=0\n",
    "    for v in G.nodes():\n",
    "        if G.degree(v) > 0: counter+=1\n",
    "    return counter\n",
    "\n",
    "def DC(x, q = 2, V = 9):\n",
    "    \"\"\"\n",
    "    return the value of DC given x, q and V\n",
    "    \"\"\"\n",
    "    return max([comb(n,V)/(q**(n-V)*comb(n-x,V-x)) for n in range(V+1,max(2*x+1,V+2))]) "
   ]
  },
  {
   "cell_type": "code",
   "execution_count": null,
   "id": "50ae9588",
   "metadata": {},
   "outputs": [],
   "source": [
    "ISO_COUNT_ALL = np.array([[count_iso_colorings(ALL9GRAPHS[i], V, nx.Graph(ALL9BIPARTITE[j].edges())) for j in range(len(ALL9BIPARTITE))] for i in range(len(ALL9GRAPHS))])/q**V\n",
    "print(ISO_COUNT_ALL.sum(axis = 1))"
   ]
  },
  {
   "cell_type": "code",
   "execution_count": null,
   "id": "6e2ac67d",
   "metadata": {},
   "outputs": [],
   "source": [
    "# calced  = [0, 2, 3, 4, 4, 5, 3, 4, 6, 5, 6, 4, 5, 6, 4, 7, 5, 6, 5]\n",
    "# claimed = [0, 2, 3, 4, 4, 5, 3, 4, 6, 5, 6, 4, 5, 6, 4, 0, 0, 0, 5]"
   ]
  },
  {
   "cell_type": "code",
   "execution_count": 78,
   "id": "274a1655",
   "metadata": {},
   "outputs": [
    {
     "name": "stdout",
     "output_type": "stream",
     "text": [
      "DC 0\n",
      "[(0.5, 10, 9)]\n",
      "DC 2\n",
      "[(0.625, 10, 9)]\n",
      "DC 3\n",
      "[(0.7142857142857143, 10, 9)]\n",
      "DC 4\n",
      "[(0.8333333333333334, 10, 9)]\n",
      "DC 4\n",
      "[(0.8333333333333334, 10, 9)]\n",
      "DC 5\n",
      "[(1.0, 10, 9)]\n",
      "DC 3\n",
      "[(0.7142857142857143, 10, 9)]\n",
      "DC 4\n",
      "[(0.8333333333333334, 10, 9)]\n",
      "DC 6\n",
      "[(1.25, 10, 9), (1.375, 11, 9), (1.375, 12, 9)]\n",
      "DC 5\n",
      "[(1.0, 10, 9)]\n",
      "DC 6\n",
      "[(1.25, 10, 9), (1.375, 11, 9), (1.375, 12, 9)]\n",
      "DC 4\n",
      "[(0.8333333333333334, 10, 9)]\n",
      "DC 5\n",
      "[(1.0, 10, 9)]\n",
      "DC 6\n",
      "[(1.25, 10, 9), (1.375, 11, 9), (1.375, 12, 9)]\n",
      "DC 4\n",
      "[(0.8333333333333334, 10, 9)]\n",
      "DC 7\n",
      "[(1.6666666666666667, 10, 9), (2.2916666666666665, 11, 9), (2.75, 12, 9), (2.9791666666666665, 13, 9), (2.9791666666666665, 14, 9)]\n",
      "DC 5\n",
      "[(1.0, 10, 9)]\n",
      "DC 6\n",
      "[(1.25, 10, 9), (1.375, 11, 9), (1.375, 12, 9)]\n",
      "DC 5\n",
      "[(1.0, 10, 9)]\n",
      "[0.5        0.625      0.71428571 0.83333333 0.83333333 1.\n",
      " 0.71428571 0.83333333 1.375      1.         1.375      0.83333333\n",
      " 1.         1.375      0.83333333 2.97916667 1.         1.375\n",
      " 1.        ]\n"
     ]
    }
   ],
   "source": [
    "DCs = np.array([DC(nodes(g), V = V) for g in ALL9BIPARTITE])\n",
    "print(DCs)"
   ]
  },
  {
   "cell_type": "code",
   "execution_count": 80,
   "id": "df1f0f4e",
   "metadata": {},
   "outputs": [],
   "source": [
    "# DCs = [0.5, 0.625, 0.7142857142857143, 0.8333333333333334, 0.8333333333333334, 1.0, 0.7142857142857143, 0.8333333333333334, 0.2976190476190476, 1.0, 0.2976190476190476, 0.8333333333333334, 1.0, 0.2976190476190476, 0.8333333333333334, 0.5, 0.5, 0.5, 1.0]\n",
    "def check_condition_3(coefs):\n",
    "    \"\"\"\n",
    "    check that all graphs with more than tC2 edges and at most V vertices have mu at most 1-delta\n",
    "    check that the maximum bound is at most 1-delta by iterating over all graphs on at most V certices\n",
    "    \"\"\"\n",
    "    small_sums = np.apply_along_axis(lambda x: np.sum(x*coefs), 1, ISO_COUNT[9:]) # graphs > tC2 edges and <= V vertices\n",
    "    large_sums = np.apply_along_axis(lambda x: np.sum(x*coefs*DCs), 1, ISO_COUNT[1:]) # check graphs > tC2 edges and > V vertices\n",
    "#     return (np.max(large_sums/q**(ALLCC[1:]-1)) <= 1 - delta) and all(np.abs(small_sums) <= 1 - delta)\n",
    "    print(np.max(large_sums/q**(ALLCC[1:]-1)), np.max(np.abs(small_sums)))\n",
    "\n",
    "def coef_tilde(coefs):\n",
    "    \"\"\"\n",
    "    the list of H's that can be reduced to each H by iteratively identifying vertices from disconnected components\n",
    "    \"\"\"\n",
    "    avail = [[0],\n",
    "    [1],\n",
    "    [2,3],\n",
    "    [3],\n",
    "    [4,5,8],\n",
    "    [5,8],\n",
    "    [6],\n",
    "    [7,5,8],\n",
    "    [8],\n",
    "    [9,10,13,15],\n",
    "    [10,15],\n",
    "    [11],\n",
    "    [12,15,17],\n",
    "    [13,15],\n",
    "    [14,16],\n",
    "    [15],\n",
    "    [16],\n",
    "    [17,15],\n",
    "    [18,13,15,17]]\n",
    "    return [max([abs(coefs[i]) for i in avail[j]]) for j in range(len(coefs))]"
   ]
  },
  {
   "cell_type": "code",
   "execution_count": 81,
   "id": "bdb3f9cc",
   "metadata": {},
   "outputs": [
    {
     "name": "stdout",
     "output_type": "stream",
     "text": [
      "1.0\n",
      "3.3125 3.0875\n",
      "True None\n"
     ]
    }
   ],
   "source": [
    "coefs = np.array([7.0, -5.0, -1.0, 1.7, 3.0, 0.0, 0.0, 0.3, 0.0, -0.2, 0.0, 0.0, 0.0, 0.0, -3.7, 0.0, 0.0, 0.0, -0.75])\n",
    "# print(coef_tilde(coefs))\n",
    "res=check_condition_2(coefs)\n",
    "res2 = check_condition_3(coef_tilde(coefs))\n",
    "print(res, res2)"
   ]
  },
  {
   "cell_type": "code",
   "execution_count": 33,
   "id": "1ddf181c",
   "metadata": {},
   "outputs": [
    {
     "ename": "KeyboardInterrupt",
     "evalue": "",
     "output_type": "error",
     "traceback": [
      "\u001b[0;31m---------------------------------------------------------------------------\u001b[0m",
      "\u001b[0;31mKeyboardInterrupt\u001b[0m                         Traceback (most recent call last)",
      "\u001b[0;32m<ipython-input-33-056db28f6096>\u001b[0m in \u001b[0;36m<module>\u001b[0;34m\u001b[0m\n\u001b[1;32m     12\u001b[0m                                     \u001b[0mcoefs\u001b[0m \u001b[0;34m=\u001b[0m \u001b[0mnp\u001b[0m\u001b[0;34m.\u001b[0m\u001b[0marray\u001b[0m\u001b[0;34m(\u001b[0m\u001b[0;34m[\u001b[0m\u001b[0;36m7.0\u001b[0m\u001b[0;34m,\u001b[0m\u001b[0mx1\u001b[0m\u001b[0;34m,\u001b[0m\u001b[0mx2\u001b[0m\u001b[0;34m,\u001b[0m\u001b[0mx3\u001b[0m\u001b[0;34m,\u001b[0m\u001b[0mx4\u001b[0m\u001b[0;34m,\u001b[0m\u001b[0;36m0.0\u001b[0m\u001b[0;34m,\u001b[0m\u001b[0;36m0.0\u001b[0m\u001b[0;34m,\u001b[0m\u001b[0mx7\u001b[0m\u001b[0;34m,\u001b[0m\u001b[0;36m0.0\u001b[0m\u001b[0;34m,\u001b[0m\u001b[0mx9\u001b[0m\u001b[0;34m,\u001b[0m\u001b[0;36m0.0\u001b[0m\u001b[0;34m,\u001b[0m\u001b[0;36m0.0\u001b[0m\u001b[0;34m,\u001b[0m\u001b[0mx12\u001b[0m\u001b[0;34m,\u001b[0m\u001b[0;36m0.0\u001b[0m\u001b[0;34m,\u001b[0m\u001b[0mx14\u001b[0m\u001b[0;34m,\u001b[0m\u001b[0;36m0.0\u001b[0m\u001b[0;34m,\u001b[0m\u001b[0;36m0.0\u001b[0m\u001b[0;34m,\u001b[0m\u001b[0;36m0.0\u001b[0m\u001b[0;34m,\u001b[0m\u001b[0mx18\u001b[0m\u001b[0;34m]\u001b[0m\u001b[0;34m)\u001b[0m\u001b[0;34m\u001b[0m\u001b[0;34m\u001b[0m\u001b[0m\n\u001b[1;32m     13\u001b[0m                                     \u001b[0mres\u001b[0m\u001b[0;34m=\u001b[0m\u001b[0mcheck_condition_2\u001b[0m\u001b[0;34m(\u001b[0m\u001b[0mcoefs\u001b[0m\u001b[0;34m)\u001b[0m\u001b[0;34m\u001b[0m\u001b[0;34m\u001b[0m\u001b[0m\n\u001b[0;32m---> 14\u001b[0;31m                                     \u001b[0mres2\u001b[0m \u001b[0;34m=\u001b[0m \u001b[0mcheck_condition_3\u001b[0m\u001b[0;34m(\u001b[0m\u001b[0mcoef_tilde\u001b[0m\u001b[0;34m(\u001b[0m\u001b[0mcoefs\u001b[0m\u001b[0;34m)\u001b[0m\u001b[0;34m)\u001b[0m\u001b[0;34m\u001b[0m\u001b[0;34m\u001b[0m\u001b[0m\n\u001b[0m\u001b[1;32m     15\u001b[0m                                     \u001b[0;32mif\u001b[0m \u001b[0mres\u001b[0m \u001b[0;32mand\u001b[0m \u001b[0mres2\u001b[0m\u001b[0;34m:\u001b[0m\u001b[0;34m\u001b[0m\u001b[0;34m\u001b[0m\u001b[0m\n\u001b[1;32m     16\u001b[0m                                         \u001b[0mall_avail_coeff_8\u001b[0m\u001b[0;34m.\u001b[0m\u001b[0mappend\u001b[0m\u001b[0;34m(\u001b[0m\u001b[0mcoefs\u001b[0m\u001b[0;34m)\u001b[0m\u001b[0;34m\u001b[0m\u001b[0;34m\u001b[0m\u001b[0m\n",
      "\u001b[0;32m<ipython-input-32-996dfcd3225c>\u001b[0m in \u001b[0;36mcheck_condition_3\u001b[0;34m(coefs)\u001b[0m\n\u001b[1;32m      1\u001b[0m \u001b[0;32mdef\u001b[0m \u001b[0mcheck_condition_3\u001b[0m\u001b[0;34m(\u001b[0m\u001b[0mcoefs\u001b[0m\u001b[0;34m)\u001b[0m\u001b[0;34m:\u001b[0m\u001b[0;34m\u001b[0m\u001b[0;34m\u001b[0m\u001b[0m\n\u001b[0;32m----> 2\u001b[0;31m     \u001b[0msums\u001b[0m \u001b[0;34m=\u001b[0m \u001b[0mnp\u001b[0m\u001b[0;34m.\u001b[0m\u001b[0mapply_along_axis\u001b[0m\u001b[0;34m(\u001b[0m\u001b[0;32mlambda\u001b[0m \u001b[0mx\u001b[0m\u001b[0;34m:\u001b[0m \u001b[0mnp\u001b[0m\u001b[0;34m.\u001b[0m\u001b[0msum\u001b[0m\u001b[0;34m(\u001b[0m\u001b[0mx\u001b[0m\u001b[0;34m*\u001b[0m\u001b[0mcoefs\u001b[0m\u001b[0;34m*\u001b[0m\u001b[0mDCs\u001b[0m\u001b[0;34m)\u001b[0m\u001b[0;34m,\u001b[0m \u001b[0;36m1\u001b[0m\u001b[0;34m,\u001b[0m \u001b[0mISO_COUNT\u001b[0m\u001b[0;34m[\u001b[0m\u001b[0;36m9\u001b[0m\u001b[0;34m:\u001b[0m\u001b[0;34m]\u001b[0m\u001b[0;34m)\u001b[0m \u001b[0;31m# check graphs > 3 edges\u001b[0m\u001b[0;34m\u001b[0m\u001b[0;34m\u001b[0m\u001b[0m\n\u001b[0m\u001b[1;32m      3\u001b[0m     \u001b[0;32mreturn\u001b[0m \u001b[0mnp\u001b[0m\u001b[0;34m.\u001b[0m\u001b[0mmax\u001b[0m\u001b[0;34m(\u001b[0m\u001b[0msums\u001b[0m\u001b[0;34m/\u001b[0m\u001b[0mq\u001b[0m\u001b[0;34m**\u001b[0m\u001b[0;34m(\u001b[0m\u001b[0mALLCC\u001b[0m\u001b[0;34m[\u001b[0m\u001b[0;36m9\u001b[0m\u001b[0;34m:\u001b[0m\u001b[0;34m]\u001b[0m\u001b[0;34m-\u001b[0m\u001b[0;36m1\u001b[0m\u001b[0;34m)\u001b[0m\u001b[0;34m)\u001b[0m \u001b[0;34m<=\u001b[0m \u001b[0;36m1\u001b[0m \u001b[0;34m-\u001b[0m \u001b[0mdelta\u001b[0m\u001b[0;34m\u001b[0m\u001b[0;34m\u001b[0m\u001b[0m\n\u001b[1;32m      4\u001b[0m \u001b[0;34m\u001b[0m\u001b[0m\n\u001b[1;32m      5\u001b[0m \u001b[0;32mdef\u001b[0m \u001b[0mcoef_tilde\u001b[0m\u001b[0;34m(\u001b[0m\u001b[0mcoefs\u001b[0m\u001b[0;34m)\u001b[0m\u001b[0;34m:\u001b[0m\u001b[0;34m\u001b[0m\u001b[0;34m\u001b[0m\u001b[0m\n",
      "\u001b[0;32m<__array_function__ internals>\u001b[0m in \u001b[0;36mapply_along_axis\u001b[0;34m(*args, **kwargs)\u001b[0m\n",
      "\u001b[0;32m~/opt/anaconda3/lib/python3.8/site-packages/numpy/lib/shape_base.py\u001b[0m in \u001b[0;36mapply_along_axis\u001b[0;34m(func1d, axis, arr, *args, **kwargs)\u001b[0m\n\u001b[1;32m    400\u001b[0m     \u001b[0mbuff\u001b[0m\u001b[0;34m[\u001b[0m\u001b[0mind0\u001b[0m\u001b[0;34m]\u001b[0m \u001b[0;34m=\u001b[0m \u001b[0mres\u001b[0m\u001b[0;34m\u001b[0m\u001b[0;34m\u001b[0m\u001b[0m\n\u001b[1;32m    401\u001b[0m     \u001b[0;32mfor\u001b[0m \u001b[0mind\u001b[0m \u001b[0;32min\u001b[0m \u001b[0minds\u001b[0m\u001b[0;34m:\u001b[0m\u001b[0;34m\u001b[0m\u001b[0;34m\u001b[0m\u001b[0m\n\u001b[0;32m--> 402\u001b[0;31m         \u001b[0mbuff\u001b[0m\u001b[0;34m[\u001b[0m\u001b[0mind\u001b[0m\u001b[0;34m]\u001b[0m \u001b[0;34m=\u001b[0m \u001b[0masanyarray\u001b[0m\u001b[0;34m(\u001b[0m\u001b[0mfunc1d\u001b[0m\u001b[0;34m(\u001b[0m\u001b[0minarr_view\u001b[0m\u001b[0;34m[\u001b[0m\u001b[0mind\u001b[0m\u001b[0;34m]\u001b[0m\u001b[0;34m,\u001b[0m \u001b[0;34m*\u001b[0m\u001b[0margs\u001b[0m\u001b[0;34m,\u001b[0m \u001b[0;34m**\u001b[0m\u001b[0mkwargs\u001b[0m\u001b[0;34m)\u001b[0m\u001b[0;34m)\u001b[0m\u001b[0;34m\u001b[0m\u001b[0;34m\u001b[0m\u001b[0m\n\u001b[0m\u001b[1;32m    403\u001b[0m \u001b[0;34m\u001b[0m\u001b[0m\n\u001b[1;32m    404\u001b[0m     \u001b[0;32mif\u001b[0m \u001b[0;32mnot\u001b[0m \u001b[0misinstance\u001b[0m\u001b[0;34m(\u001b[0m\u001b[0mres\u001b[0m\u001b[0;34m,\u001b[0m \u001b[0mmatrix\u001b[0m\u001b[0;34m)\u001b[0m\u001b[0;34m:\u001b[0m\u001b[0;34m\u001b[0m\u001b[0;34m\u001b[0m\u001b[0m\n",
      "\u001b[0;32m<ipython-input-32-996dfcd3225c>\u001b[0m in \u001b[0;36m<lambda>\u001b[0;34m(x)\u001b[0m\n\u001b[1;32m      1\u001b[0m \u001b[0;32mdef\u001b[0m \u001b[0mcheck_condition_3\u001b[0m\u001b[0;34m(\u001b[0m\u001b[0mcoefs\u001b[0m\u001b[0;34m)\u001b[0m\u001b[0;34m:\u001b[0m\u001b[0;34m\u001b[0m\u001b[0;34m\u001b[0m\u001b[0m\n\u001b[0;32m----> 2\u001b[0;31m     \u001b[0msums\u001b[0m \u001b[0;34m=\u001b[0m \u001b[0mnp\u001b[0m\u001b[0;34m.\u001b[0m\u001b[0mapply_along_axis\u001b[0m\u001b[0;34m(\u001b[0m\u001b[0;32mlambda\u001b[0m \u001b[0mx\u001b[0m\u001b[0;34m:\u001b[0m \u001b[0mnp\u001b[0m\u001b[0;34m.\u001b[0m\u001b[0msum\u001b[0m\u001b[0;34m(\u001b[0m\u001b[0mx\u001b[0m\u001b[0;34m*\u001b[0m\u001b[0mcoefs\u001b[0m\u001b[0;34m*\u001b[0m\u001b[0mDCs\u001b[0m\u001b[0;34m)\u001b[0m\u001b[0;34m,\u001b[0m \u001b[0;36m1\u001b[0m\u001b[0;34m,\u001b[0m \u001b[0mISO_COUNT\u001b[0m\u001b[0;34m[\u001b[0m\u001b[0;36m9\u001b[0m\u001b[0;34m:\u001b[0m\u001b[0;34m]\u001b[0m\u001b[0;34m)\u001b[0m \u001b[0;31m# check graphs > 3 edges\u001b[0m\u001b[0;34m\u001b[0m\u001b[0;34m\u001b[0m\u001b[0m\n\u001b[0m\u001b[1;32m      3\u001b[0m     \u001b[0;32mreturn\u001b[0m \u001b[0mnp\u001b[0m\u001b[0;34m.\u001b[0m\u001b[0mmax\u001b[0m\u001b[0;34m(\u001b[0m\u001b[0msums\u001b[0m\u001b[0;34m/\u001b[0m\u001b[0mq\u001b[0m\u001b[0;34m**\u001b[0m\u001b[0;34m(\u001b[0m\u001b[0mALLCC\u001b[0m\u001b[0;34m[\u001b[0m\u001b[0;36m9\u001b[0m\u001b[0;34m:\u001b[0m\u001b[0;34m]\u001b[0m\u001b[0;34m-\u001b[0m\u001b[0;36m1\u001b[0m\u001b[0;34m)\u001b[0m\u001b[0;34m)\u001b[0m \u001b[0;34m<=\u001b[0m \u001b[0;36m1\u001b[0m \u001b[0;34m-\u001b[0m \u001b[0mdelta\u001b[0m\u001b[0;34m\u001b[0m\u001b[0;34m\u001b[0m\u001b[0m\n\u001b[1;32m      4\u001b[0m \u001b[0;34m\u001b[0m\u001b[0m\n\u001b[1;32m      5\u001b[0m \u001b[0;32mdef\u001b[0m \u001b[0mcoef_tilde\u001b[0m\u001b[0;34m(\u001b[0m\u001b[0mcoefs\u001b[0m\u001b[0;34m)\u001b[0m\u001b[0;34m:\u001b[0m\u001b[0;34m\u001b[0m\u001b[0;34m\u001b[0m\u001b[0m\n",
      "\u001b[0;32m<__array_function__ internals>\u001b[0m in \u001b[0;36msum\u001b[0;34m(*args, **kwargs)\u001b[0m\n",
      "\u001b[0;32m~/opt/anaconda3/lib/python3.8/site-packages/numpy/core/fromnumeric.py\u001b[0m in \u001b[0;36msum\u001b[0;34m(a, axis, dtype, out, keepdims, initial, where)\u001b[0m\n\u001b[1;32m   2245\u001b[0m         \u001b[0;32mreturn\u001b[0m \u001b[0mres\u001b[0m\u001b[0;34m\u001b[0m\u001b[0;34m\u001b[0m\u001b[0m\n\u001b[1;32m   2246\u001b[0m \u001b[0;34m\u001b[0m\u001b[0m\n\u001b[0;32m-> 2247\u001b[0;31m     return _wrapreduction(a, np.add, 'sum', axis, dtype, out, keepdims=keepdims,\n\u001b[0m\u001b[1;32m   2248\u001b[0m                           initial=initial, where=where)\n\u001b[1;32m   2249\u001b[0m \u001b[0;34m\u001b[0m\u001b[0m\n",
      "\u001b[0;32m~/opt/anaconda3/lib/python3.8/site-packages/numpy/core/fromnumeric.py\u001b[0m in \u001b[0;36m_wrapreduction\u001b[0;34m(obj, ufunc, method, axis, dtype, out, **kwargs)\u001b[0m\n\u001b[1;32m     85\u001b[0m                 \u001b[0;32mreturn\u001b[0m \u001b[0mreduction\u001b[0m\u001b[0;34m(\u001b[0m\u001b[0maxis\u001b[0m\u001b[0;34m=\u001b[0m\u001b[0maxis\u001b[0m\u001b[0;34m,\u001b[0m \u001b[0mout\u001b[0m\u001b[0;34m=\u001b[0m\u001b[0mout\u001b[0m\u001b[0;34m,\u001b[0m \u001b[0;34m**\u001b[0m\u001b[0mpasskwargs\u001b[0m\u001b[0;34m)\u001b[0m\u001b[0;34m\u001b[0m\u001b[0;34m\u001b[0m\u001b[0m\n\u001b[1;32m     86\u001b[0m \u001b[0;34m\u001b[0m\u001b[0m\n\u001b[0;32m---> 87\u001b[0;31m     \u001b[0;32mreturn\u001b[0m \u001b[0mufunc\u001b[0m\u001b[0;34m.\u001b[0m\u001b[0mreduce\u001b[0m\u001b[0;34m(\u001b[0m\u001b[0mobj\u001b[0m\u001b[0;34m,\u001b[0m \u001b[0maxis\u001b[0m\u001b[0;34m,\u001b[0m \u001b[0mdtype\u001b[0m\u001b[0;34m,\u001b[0m \u001b[0mout\u001b[0m\u001b[0;34m,\u001b[0m \u001b[0;34m**\u001b[0m\u001b[0mpasskwargs\u001b[0m\u001b[0;34m)\u001b[0m\u001b[0;34m\u001b[0m\u001b[0;34m\u001b[0m\u001b[0m\n\u001b[0m\u001b[1;32m     88\u001b[0m \u001b[0;34m\u001b[0m\u001b[0m\n\u001b[1;32m     89\u001b[0m \u001b[0;34m\u001b[0m\u001b[0m\n",
      "\u001b[0;31mKeyboardInterrupt\u001b[0m: "
     ]
    }
   ],
   "source": [
    "all_avail_coeff = []\n",
    "# all disconnected H have 0 coefficients\n",
    "for x1 in np.arange(-5,0,1):\n",
    "    for x2 in np.arange(-2,2,1):\n",
    "        for x3 in np.arange(1.0,2.0,0.1):\n",
    "            for x4 in np.arange(0,5,1):\n",
    "                for x7 in np.arange(0.0,1.0,0.1):\n",
    "                    for x9 in np.arange(-1.0,0.0,0.1):\n",
    "                        for x12 in np.arange(-1,1,1):\n",
    "                            for x14 in np.arange(-4.0,-3.0,0.1):\n",
    "                                for x18 in np.arange(-1.0,-0.5,0.05):\n",
    "                                    coefs = np.array([7.0,x1,x2,x3,x4,0.0,0.0,x7,0.0,x9,0.0,0.0,x12,0.0,x14,0.0,0.0,0.0,x18])\n",
    "                                    res=check_condition_2(coefs)\n",
    "                                    res2 = check_condition_3(coef_tilde(coefs))\n",
    "                                    if res and res2:\n",
    "                                        all_avail_coeff.append(coefs)"
   ]
  },
  {
   "cell_type": "code",
   "execution_count": null,
   "id": "62e43dd9",
   "metadata": {},
   "outputs": [],
   "source": []
  },
  {
   "cell_type": "code",
   "execution_count": 14,
   "id": "4ac0916f",
   "metadata": {},
   "outputs": [
    {
     "data": {
      "text/plain": [
       "180000"
      ]
     },
     "execution_count": 14,
     "metadata": {},
     "output_type": "execute_result"
    }
   ],
   "source": [
    "len(all_avail_coeff)"
   ]
  },
  {
   "cell_type": "code",
   "execution_count": 15,
   "id": "012dda93",
   "metadata": {},
   "outputs": [],
   "source": [
    "res = np.array(all_avail_coeff)"
   ]
  },
  {
   "cell_type": "code",
   "execution_count": 16,
   "id": "7a87ab01",
   "metadata": {},
   "outputs": [
    {
     "data": {
      "text/plain": [
       "(180000, 19)"
      ]
     },
     "execution_count": 16,
     "metadata": {},
     "output_type": "execute_result"
    }
   ],
   "source": [
    "res.shape"
   ]
  },
  {
   "cell_type": "code",
   "execution_count": 22,
   "id": "8be14889",
   "metadata": {},
   "outputs": [
    {
     "name": "stdout",
     "output_type": "stream",
     "text": [
      "True\n"
     ]
    }
   ],
   "source": [
    "print(all(res[:,1]==-5.0))"
   ]
  },
  {
   "cell_type": "code",
   "execution_count": null,
   "id": "3c7b2e88",
   "metadata": {},
   "outputs": [],
   "source": []
  }
 ],
 "metadata": {
  "kernelspec": {
   "display_name": "Python 3",
   "language": "python",
   "name": "python3"
  },
  "language_info": {
   "codemirror_mode": {
    "name": "ipython",
    "version": 3
   },
   "file_extension": ".py",
   "mimetype": "text/x-python",
   "name": "python",
   "nbconvert_exporter": "python",
   "pygments_lexer": "ipython3",
   "version": "3.8.8"
  }
 },
 "nbformat": 4,
 "nbformat_minor": 5
}
