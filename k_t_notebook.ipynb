{
 "cells": [
  {
   "cell_type": "code",
   "execution_count": 1,
   "id": "a11d007d",
   "metadata": {},
   "outputs": [],
   "source": [
    "import numpy as np\n",
    "import networkx as nx\n",
    "from scipy.optimize import linprog\n",
    "from math import comb"
   ]
  },
  {
   "cell_type": "code",
   "execution_count": 2,
   "id": "b0706bdf",
   "metadata": {},
   "outputs": [],
   "source": [
    "t = 3\n",
    "q = t-1\n",
    "V = 9 # TODO: try V = 8 ??\n",
    "delta = 0.0125 # TODO: how far we can push delta to ??"
   ]
  },
  {
   "cell_type": "code",
   "execution_count": 1,
   "id": "852fb6d0",
   "metadata": {},
   "outputs": [],
   "source": [
    "def get_small_idx(all_graphs, t):\n",
    "    for i,g in enumerate(all_graphs):\n",
    "        if g.number_of_edges() > comb(t,2):\n",
    "            return i\n",
    "    return len(all_graphs)"
   ]
  },
  {
   "cell_type": "code",
   "execution_count": 3,
   "id": "95a95286",
   "metadata": {},
   "outputs": [],
   "source": [
    "ALLGRAPHS = sorted(nx.read_graph6(\"graph\"+str(V)+\".g6\"), key = lambda G: G.number_of_edges()) # 274668 graphs on at most 9 vertices\n",
    "ALLCC = np.array([np.count_nonzero([len(c)>1 for c in list(nx.connected_components(g))]) for g in ALLGRAPHS]) # get number of connected components of all graphs on at most 9 vertices\n",
    "# ALLCC = np.array([len(list(nx.connected_components(G)))-1 for G in ALL9GRAPHS]) # TODO: isolated vertices as components??"
   ]
  },
  {
   "cell_type": "code",
   "execution_count": 4,
   "id": "65104879",
   "metadata": {},
   "outputs": [],
   "source": [
    "ALLH = sorted(nx.read_graph6(\"H\"+str(V)+\".g6\"), key = lambda G: G.number_of_edges())"
   ]
  },
  {
   "cell_type": "code",
   "execution_count": 5,
   "id": "086b5775",
   "metadata": {},
   "outputs": [],
   "source": [
    "def nodes(G):\n",
    "    \"\"\"\n",
    "    return the number of nodes of graph G\n",
    "    \"\"\"\n",
    "    counter=0\n",
    "    for v in G.nodes():\n",
    "        if G.degree(v) > 0: counter+=1\n",
    "    return counter\n",
    "\n",
    "def DC(x, q = 2, V = 9):\n",
    "    \"\"\"\n",
    "    return the value of DC given x, q and V\n",
    "    \"\"\"\n",
    "    print(\"query\",x)\n",
    "    for n in range(V+1,max(2*x+1,V+2)):\n",
    "        print(\"n,V,x = \", n,V,x)\n",
    "    return max([comb(n,V)/(q**(n-V)*comb(n-x,V-x)) for n in range(V+1,max(2*x+1,V+2))]) "
   ]
  },
  {
   "cell_type": "code",
   "execution_count": 6,
   "id": "b15e06c5",
   "metadata": {},
   "outputs": [],
   "source": [
    "ISO_COUNT = np.load(\"iso_count\"+str(V)+\".npy\")"
   ]
  },
  {
   "cell_type": "code",
   "execution_count": 7,
   "id": "d9ff9a5b",
   "metadata": {},
   "outputs": [
    {
     "data": {
      "text/plain": [
       "array([0.5       , 0.625     , 0.71428571, 0.83333333, 0.83333333,\n",
       "       1.        , 0.71428571, 0.83333333, 0.29761905, 1.        ,\n",
       "       0.29761905, 0.83333333, 1.        , 0.29761905, 0.83333333,\n",
       "       0.5       , 0.5       , 0.5       , 1.        ])"
      ]
     },
     "execution_count": 7,
     "metadata": {},
     "output_type": "execute_result"
    }
   ],
   "source": [
    "DCs = np.array([DC(nodes(g), V = V) for g in ALLH]) # TODO: why truncating DC??"
   ]
  },
  {
   "cell_type": "code",
   "execution_count": 8,
   "id": "69116acf",
   "metadata": {},
   "outputs": [],
   "source": [
    "small_index = get_small_idx(ALLGRAPHS, t)\n",
    "mu_0 = 2**comb(t,2)-1\n",
    "def check_condition_2(coefs):\n",
    "    \"\"\"\n",
    "    check that all graphs with at most 3 edges have mu less than or equal to 1\n",
    "    \"\"\"\n",
    "    sums = np.apply_along_axis(lambda x: np.sum(x*coefs), 1, ISO_COUNT[:small_index])\n",
    "    return (np.max(np.abs(sums)[1:]) <=1) and sums[0] == mu_0\n",
    "\n",
    "def check_condition_3(coefs):\n",
    "    \"\"\"\n",
    "    check that all graphs with more than tC2 edges and at most V vertices have mu at most 1-delta\n",
    "    check that the maximum bound is at most 1-delta by iterating over all graphs on at most V certices\n",
    "    \"\"\"\n",
    "    small_sums = np.apply_along_axis(lambda x: np.sum(x*coefs), 1, ISO_COUNT[small_index:]) # graphs > tC2 edges and <= V vertices\n",
    "    large_sums = np.apply_along_axis(lambda x: np.sum(x*coef_tilde(coefs)*DCs), 1, ISO_COUNT[1:]) # check graphs > tC2 edges and > V vertices\n",
    "#     print(\"bound on small\",np.max(np.abs(small_sums)),\"bound on big\",np.max(large_sums/q**(ALLCC[1:]-1)),\"threshold\", 1-delta)\n",
    "    return (np.max(large_sums/q**(ALLCC[1:]-1)) <= 1 - delta) and (np.max(np.abs(small_sums)) <= 1 - delta)"
   ]
  },
  {
   "cell_type": "code",
   "execution_count": null,
   "id": "8bdf0f29",
   "metadata": {},
   "outputs": [],
   "source": [
    "from multiprocessing import Pool, TimeoutError\n",
    "def return_max_mu(coefs,indices):\n",
    "    sums = np.apply_along_axis(lambda x:np.sum(x*coefs), 1, ISO_COUNT[indices[0]:indices[1]])\n",
    "    return np.max(np.abs(sums))\n",
    "def return_max_bound(coefs, indices):\n",
    "    sums = np.apply_along_axis(lambda x:np.sum(x*coefs), 1, ISO_COUNT[indices[0]:indices[1]])\n",
    "    return np.max(large_sums/q**(ALLCC[indices[0]:indices[1]]-1))\n",
    "\n",
    "\n",
    "def check_condition_3_eff(coefs):\n",
    "    \"\"\"\n",
    "    check that all graphs with more than tC2 edges and at most V vertices have mu at most 1-delta\n",
    "    check that the maximum bound is at most 1-delta by iterating over all graphs on at most V certices\n",
    "    \"\"\"\n",
    "    window = 10000\n",
    "    index_list = list([i,min(i+window,len(ISO_COUNT))] for i in range(small_index,len(ISO_COUNT),window))\n",
    "    with Pool(processes = 4) as pool:\n",
    "        multiple_results = [pool.apply_async(return_max_mu, (i,)) for i in index_list]\n",
    "        res = max([res.get(timeout=1) for res in multiple_results])<=1-delta\n",
    "    \n",
    "    index_list1 = list([i,min(i+window,len(ISO_COUNT))] for i in range(1,len(ISO_COUNT),window))\n",
    "    with Pool(processes = 4) as pool:\n",
    "        multiple_results1 = [pool.apply_async(return_max_bound, (i,)) for i in index_list1]\n",
    "        res1 = max([res.get(timeout=1) for res in multiple_results1])<=1-delta\n",
    "    return res and res1"
   ]
  },
  {
   "cell_type": "code",
   "execution_count": null,
   "id": "e2cd84a9",
   "metadata": {},
   "outputs": [],
   "source": [
    "all_avail_coeff = []\n",
    "# all disconnected H have 0 coefficients\n",
    "for x3 in np.arange(-1.0,2.0,0.4):\n",
    "    for x4 in np.arange(-2,5,1):\n",
    "        for x7 in np.arange(-1.0,1.0,0.2):\n",
    "            for x9 in np.arange(-1.0,1.0,0.4):\n",
    "                for x12 in np.arange(-1,2,1):\n",
    "                    for x14 in np.arange(-4.0,2.0,0.5):\n",
    "                        for x18 in np.arange(-1.0,1.0,0.5):\n",
    "                            coefs = np.array([7.0,-5,-1,x3,x4,0.0,0.0,x7,0.0,x9,0.0,0.0,x12,0.0,x14,0.0,0.0,0.0,x18])\n",
    "                            res=check_condition_2(coefs)\n",
    "                            res2 = check_condition_3(coefs)\n",
    "                            if res and res2:\n",
    "                                all_avail_coeff.append(coefs)\n",
    "with open('coeff_res.npy', 'wb') as f:\n",
    "    np.save(f,np.array(all_avail_coeff))"
   ]
  }
 ],
 "metadata": {
  "kernelspec": {
   "display_name": "Python 3",
   "language": "python",
   "name": "python3"
  },
  "language_info": {
   "codemirror_mode": {
    "name": "ipython",
    "version": 3
   },
   "file_extension": ".py",
   "mimetype": "text/x-python",
   "name": "python",
   "nbconvert_exporter": "python",
   "pygments_lexer": "ipython3",
   "version": "3.8.8"
  }
 },
 "nbformat": 4,
 "nbformat_minor": 5
}
