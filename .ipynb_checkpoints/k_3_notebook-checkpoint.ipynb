{
 "cells": [
  {
   "cell_type": "code",
   "execution_count": 1,
   "id": "bacb8e91",
   "metadata": {},
   "outputs": [],
   "source": [
    "import numpy as np\n",
    "import networkx as nx\n",
    "from scipy.optimize import linprog\n",
    "from math import comb"
   ]
  },
  {
   "cell_type": "code",
   "execution_count": 2,
   "id": "f2a15f04",
   "metadata": {},
   "outputs": [],
   "source": [
    "q = 2\n",
    "V = 9 # TODO: try V = 8 ??\n",
    "delta = 0.125 # TODO: how far we can push delta to ??"
   ]
  },
  {
   "cell_type": "code",
   "execution_count": 3,
   "id": "65910c55",
   "metadata": {},
   "outputs": [],
   "source": [
    "ALL9GRAPHS = sorted(nx.read_graph6(\"graph9.g6\"), key = lambda G: G.number_of_edges()) # 274668 graphs on at most 9 vertices\n",
    "ALLCC = np.array([np.count_nonzero([len(c)>1 for c in list(nx.connected_components(g))]) for g in ALL9GRAPHS]) # get number of connected components of all graphs on at most 9 vertices"
   ]
  },
  {
   "cell_type": "code",
   "execution_count": 4,
   "id": "197f2078",
   "metadata": {},
   "outputs": [],
   "source": [
    "ALL9BIPARTITE = ALL9GRAPHS[:19]"
   ]
  },
  {
   "cell_type": "code",
   "execution_count": 7,
   "id": "5f414b2e",
   "metadata": {},
   "outputs": [],
   "source": [
    "ISO_COUNT_ALL = np.array([[count_iso_colorings(ALL9GRAPHS[i], V, nx.Graph(ALL9BIPARTITE[j].edges())) for j in range(len(ALL9BIPARTITE))] for i in range(10)])/q**V"
   ]
  },
  {
   "cell_type": "code",
   "execution_count": 8,
   "id": "9e81e056",
   "metadata": {},
   "outputs": [
    {
     "data": {
      "text/plain": [
       "array([[1.    , 0.    , 0.    , 0.    , 0.    , 0.    , 0.    , 0.    ,\n",
       "        0.    , 0.    , 0.    , 0.    , 0.    , 0.    , 0.    , 0.    ,\n",
       "        0.    , 0.    , 0.    ],\n",
       "       [0.5   , 0.5   , 0.    , 0.    , 0.    , 0.    , 0.    , 0.    ,\n",
       "        0.    , 0.    , 0.    , 0.    , 0.    , 0.    , 0.    , 0.    ,\n",
       "        0.    , 0.    , 0.    ],\n",
       "       [0.25  , 0.5   , 0.25  , 0.    , 0.    , 0.    , 0.    , 0.    ,\n",
       "        0.    , 0.    , 0.    , 0.    , 0.    , 0.    , 0.    , 0.    ,\n",
       "        0.    , 0.    , 0.    ],\n",
       "       [0.25  , 0.5   , 0.    , 0.25  , 0.    , 0.    , 0.    , 0.    ,\n",
       "        0.    , 0.    , 0.    , 0.    , 0.    , 0.    , 0.    , 0.    ,\n",
       "        0.    , 0.    , 0.    ],\n",
       "       [0.125 , 0.375 , 0.375 , 0.    , 0.125 , 0.    , 0.    , 0.    ,\n",
       "        0.    , 0.    , 0.    , 0.    , 0.    , 0.    , 0.    , 0.    ,\n",
       "        0.    , 0.    , 0.    ],\n",
       "       [0.125 , 0.375 , 0.125 , 0.25  , 0.    , 0.125 , 0.    , 0.    ,\n",
       "        0.    , 0.    , 0.    , 0.    , 0.    , 0.    , 0.    , 0.    ,\n",
       "        0.    , 0.    , 0.    ],\n",
       "       [0.25  , 0.    , 0.75  , 0.    , 0.    , 0.    , 0.    , 0.    ,\n",
       "        0.    , 0.    , 0.    , 0.    , 0.    , 0.    , 0.    , 0.    ,\n",
       "        0.    , 0.    , 0.    ],\n",
       "       [0.125 , 0.375 , 0.25  , 0.125 , 0.    , 0.    , 0.    , 0.125 ,\n",
       "        0.    , 0.    , 0.    , 0.    , 0.    , 0.    , 0.    , 0.    ,\n",
       "        0.    , 0.    , 0.    ],\n",
       "       [0.125 , 0.375 , 0.    , 0.375 , 0.    , 0.    , 0.    , 0.    ,\n",
       "        0.125 , 0.    , 0.    , 0.    , 0.    , 0.    , 0.    , 0.    ,\n",
       "        0.    , 0.    , 0.    ],\n",
       "       [0.0625, 0.25  , 0.375 , 0.    , 0.25  , 0.    , 0.    , 0.    ,\n",
       "        0.    , 0.0625, 0.    , 0.    , 0.    , 0.    , 0.    , 0.    ,\n",
       "        0.    , 0.    , 0.    ]])"
      ]
     },
     "execution_count": 8,
     "metadata": {},
     "output_type": "execute_result"
    }
   ],
   "source": [
    "ISO_COUNT_ALL"
   ]
  },
  {
   "cell_type": "code",
   "execution_count": 5,
   "id": "d293d824",
   "metadata": {},
   "outputs": [],
   "source": [
    "def all_colorings(V, q=2):\n",
    "    \"\"\"\n",
    "    return all q-colorings of graphs on V vertices\n",
    "    \"\"\"\n",
    "    for i in range(2**V):\n",
    "        b = bin(i)[2:]\n",
    "        yield str(0) * (V - len(b)) + b\n",
    "\n",
    "def prume(G, C):\n",
    "    \"\"\"\n",
    "    return pruned graph with all monochromatic edges removed and then isolated vertices removed\n",
    "    \"\"\"\n",
    "    # remove monochromatic edge\n",
    "    g = G.copy()\n",
    "    for e in g.edges():\n",
    "        if C[e[0]]==C[e[1]]: \n",
    "            g.remove_edge(e[0],e[1])\n",
    "    \n",
    "    # remove isolated vertex\n",
    "    g.remove_nodes_from(list(nx.isolates(g)))\n",
    "    return g\n",
    "\n",
    "def count_iso_colorings(G, V, B):\n",
    "    \"\"\"\n",
    "    count the number of colorings of graph G on V vertices such that the resulting subgraph\n",
    "    after coloring is isomorphic to B\n",
    "    \"\"\"\n",
    "    return np.count_nonzero(np.array([nx.is_isomorphic(B, prume(G, C)) for C in all_colorings(V, q)]))\n",
    "\n",
    "def check_condition_2(coefs):\n",
    "    \"\"\"\n",
    "    check that all graphs with at most 3 edges have mu less than or equal to 1\n",
    "    \"\"\"\n",
    "    sums = np.apply_along_axis(lambda x: np.sum(x*coefs), 1, ISO_COUNT[:9])\n",
    "    print(np.max(np.abs(sums)[1:]))\n",
    "    return all(np.abs(sums)[1:] <=1) and sums[0] == 7\n",
    "\n",
    "def nodes(G):\n",
    "    \"\"\"\n",
    "    return the number of nodes of graph G\n",
    "    \"\"\"\n",
    "    counter=0\n",
    "    for v in G.nodes():\n",
    "        if G.degree(v) > 0: counter+=1\n",
    "    return counter\n",
    "\n",
    "def DC(x, q = 2, V = 9):\n",
    "    \"\"\"\n",
    "    return the value of DC given x, q and V\n",
    "    \"\"\"\n",
    "    return max([comb(n,V)/(q**(n-V)*comb(n-x,V-x)) for n in range(V+1,max(2*x+1,V+2))]) "
   ]
  },
  {
   "cell_type": "code",
   "execution_count": 9,
   "id": "bd34b8bf",
   "metadata": {},
   "outputs": [],
   "source": [
    "# generate a matrix such that rows are all graphs on at most V vertices\n",
    "# columns are sum of number of colorings of all subgraphs of G isomorphic to H\n",
    "# such that we get get P[G_q\\cong H] = ISO_COUNT_ALL[G_idx][H_idx]\n",
    "ISO_COUNT_ALL = np.array([[count_iso_colorings(ALL9GRAPHS[i], V, nx.Graph(ALL9BIPARTITE[j].edges())) for j in range(len(ALL9BIPARTITE))] for i in range(len(ALL9GRAPHS))])/q**V\n",
    "print(ISO_COUNT_ALL.sum(axis = 1))"
   ]
  },
  {
   "cell_type": "code",
   "execution_count": null,
   "id": "313800ec",
   "metadata": {},
   "outputs": [],
   "source": [
    "# calced  = [0, 2, 3, 4, 4, 5, 3, 4, 6, 5, 6, 4, 5, 6, 4, 7, 5, 6, 5]\n",
    "# claimed = [0, 2, 3, 4, 4, 5, 3, 4, 6, 5, 6, 4, 5, 6, 4, 0, 0, 0, 5]"
   ]
  },
  {
   "cell_type": "code",
   "execution_count": null,
   "id": "54f19321",
   "metadata": {},
   "outputs": [],
   "source": [
    "DCs = np.array([DC(nodes(g), V = V) for g in ALL9BIPARTITE])\n",
    "# print(DCs)"
   ]
  },
  {
   "cell_type": "code",
   "execution_count": null,
   "id": "b702a107",
   "metadata": {},
   "outputs": [],
   "source": [
    "# DCs = [0.5, 0.625, 0.7142857142857143, 0.8333333333333334, 0.8333333333333334, 1.0, 0.7142857142857143, 0.8333333333333334, 0.2976190476190476, 1.0, 0.2976190476190476, 0.8333333333333334, 1.0, 0.2976190476190476, 0.8333333333333334, 0.5, 0.5, 0.5, 1.0]\n",
    "def check_condition_3(coefs):\n",
    "    \"\"\"\n",
    "    check that all graphs with more than tC2 edges and at most V vertices have mu at most 1-delta\n",
    "    check that the maximum bound is at most 1-delta by iterating over all graphs on at most V certices\n",
    "    \"\"\"\n",
    "    small_sums = np.apply_along_axis(lambda x: np.sum(x*coefs), 1, ISO_COUNT[9:]) # graphs > tC2 edges and <= V vertices\n",
    "    large_sums = np.apply_along_axis(lambda x: np.sum(x*coefs*DCs), 1, ISO_COUNT[1:]) # check graphs > tC2 edges and > V vertices\n",
    "#     return (np.max(large_sums/q**(ALLCC[1:]-1)) <= 1 - delta) and all(np.abs(small_sums) <= 1 - delta)\n",
    "    print(np.max(large_sums/q**(ALLCC[1:]-1)), np.max(np.abs(small_sums)))\n",
    "\n",
    "def coef_tilde(coefs):\n",
    "    \"\"\"\n",
    "    the list of H's that can be reduced to each H by iteratively identifying vertices from disconnected components\n",
    "    \"\"\"\n",
    "    avail = [[0],\n",
    "    [1],\n",
    "    [2,3],\n",
    "    [3],\n",
    "    [4,5,8],\n",
    "    [5,8],\n",
    "    [6],\n",
    "    [7,5,8],\n",
    "    [8],\n",
    "    [9,10,13,15],\n",
    "    [10,15],\n",
    "    [11],\n",
    "    [12,15,17],\n",
    "    [13,15],\n",
    "    [14,16],\n",
    "    [15],\n",
    "    [16],\n",
    "    [17,15],\n",
    "    [18,13,15,17]]\n",
    "    return [max([abs(coefs[i]) for i in avail[j]]) for j in range(len(coefs))]"
   ]
  },
  {
   "cell_type": "code",
   "execution_count": null,
   "id": "13b4e95e",
   "metadata": {},
   "outputs": [],
   "source": [
    "all_avail_coeff = []\n",
    "# all disconnected H have 0 coefficients\n",
    "for x1 in np.arange(-5,0,1):\n",
    "    for x2 in np.arange(-2,2,1):\n",
    "        for x3 in np.arange(1.0,2.0,0.1):\n",
    "            for x4 in np.arange(0,5,1):\n",
    "                for x7 in np.arange(0.0,1.0,0.1):\n",
    "                    for x9 in np.arange(-1.0,0.0,0.1):\n",
    "                        for x12 in np.arange(-1,1,1):\n",
    "                            for x14 in np.arange(-4.0,-3.0,0.1):\n",
    "                                for x18 in np.arange(-1.0,-0.5,0.05):\n",
    "                                    coefs = np.array([7.0,x1,x2,x3,x4,0.0,0.0,x7,0.0,x9,0.0,0.0,x12,0.0,x14,0.0,0.0,0.0,x18])\n",
    "                                    res=check_condition_2(coefs)\n",
    "                                    res2 = check_condition_3(coef_tilde(coefs))\n",
    "                                    if res and res2:\n",
    "                                        all_avail_coeff.append(coefs)"
   ]
  },
  {
   "cell_type": "code",
   "execution_count": null,
   "id": "db80ef51",
   "metadata": {},
   "outputs": [],
   "source": []
  },
  {
   "cell_type": "code",
   "execution_count": 81,
   "id": "929820a7",
   "metadata": {},
   "outputs": [
    {
     "name": "stdout",
     "output_type": "stream",
     "text": [
      "1.0\n",
      "3.3125 3.0875\n",
      "True None\n"
     ]
    }
   ],
   "source": [
    "coefs = np.array([7.0, -5.0, -1.0, 1.7, 3.0, 0.0, 0.0, 0.3, 0.0, -0.2, 0.0, 0.0, 0.0, 0.0, -3.7, 0.0, 0.0, 0.0, -0.75])\n",
    "# print(coef_tilde(coefs))\n",
    "res=check_condition_2(coefs)\n",
    "res2 = check_condition_3(coef_tilde(coefs))\n",
    "print(res, res2)"
   ]
  },
  {
   "cell_type": "code",
   "execution_count": 14,
   "id": "2deb5e1d",
   "metadata": {},
   "outputs": [
    {
     "data": {
      "text/plain": [
       "180000"
      ]
     },
     "execution_count": 14,
     "metadata": {},
     "output_type": "execute_result"
    }
   ],
   "source": [
    "len(all_avail_coeff)"
   ]
  },
  {
   "cell_type": "code",
   "execution_count": 15,
   "id": "5002ffea",
   "metadata": {},
   "outputs": [],
   "source": [
    "res = np.array(all_avail_coeff)"
   ]
  },
  {
   "cell_type": "code",
   "execution_count": 16,
   "id": "f2a287b5",
   "metadata": {},
   "outputs": [
    {
     "data": {
      "text/plain": [
       "(180000, 19)"
      ]
     },
     "execution_count": 16,
     "metadata": {},
     "output_type": "execute_result"
    }
   ],
   "source": [
    "res.shape"
   ]
  },
  {
   "cell_type": "code",
   "execution_count": 22,
   "id": "844369ba",
   "metadata": {},
   "outputs": [
    {
     "name": "stdout",
     "output_type": "stream",
     "text": [
      "True\n"
     ]
    }
   ],
   "source": [
    "print(all(res[:,1]==-5.0))"
   ]
  },
  {
   "cell_type": "code",
   "execution_count": null,
   "id": "8f95ac37",
   "metadata": {},
   "outputs": [],
   "source": []
  }
 ],
 "metadata": {
  "kernelspec": {
   "display_name": "Python 3",
   "language": "python",
   "name": "python3"
  },
  "language_info": {
   "codemirror_mode": {
    "name": "ipython",
    "version": 3
   },
   "file_extension": ".py",
   "mimetype": "text/x-python",
   "name": "python",
   "nbconvert_exporter": "python",
   "pygments_lexer": "ipython3",
   "version": "3.8.8"
  }
 },
 "nbformat": 4,
 "nbformat_minor": 5
}
